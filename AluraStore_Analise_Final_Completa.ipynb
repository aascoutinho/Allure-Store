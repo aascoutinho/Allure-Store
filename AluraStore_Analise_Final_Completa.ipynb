{
 "cells": [
  {
   "cell_type": "markdown",
   "id": "b5a55a05",
   "metadata": {},
   "source": [
    "# 🛒 Projeto Alura Store - Análise de Vendas"
   ]
  },
  {
   "cell_type": "markdown",
   "id": "8489d35e",
   "metadata": {},
   "source": [
    "Este notebook tem como objetivo analisar os dados de vendas de quatro lojas da Alura Store, para ajudar o Sr. João a decidir qual loja vender. As análises incluem faturamento, categorias mais populares, avaliação dos clientes, produtos mais e menos vendidos e frete médio."
   ]
  },
  {
   "cell_type": "markdown",
   "id": "5f5aaea5",
   "metadata": {},
   "source": [
    "## 📁 Passo 1: Faça upload dos arquivos CSV"
   ]
  },
  {
   "cell_type": "markdown",
   "id": "6715da1e",
   "metadata": {},
   "source": [
    "Use o painel lateral do Google Colab (ícone de pasta 📂 > botão '📤 Upload') e envie os seguintes arquivos:\n",
    "- `loja_1.csv`\n",
    "- `loja_2.csv`\n",
    "- `loja_3.csv`\n",
    "- `loja_4.csv`"
   ]
  },
  {
   "cell_type": "code",
   "execution_count": null,
   "id": "f72de77e",
   "metadata": {},
   "outputs": [],
   "source": [
    "import pandas as pd\n",
    "import matplotlib.pyplot as plt\n",
    "import seaborn as sns\n",
    "import os\n",
    "\n",
    "sns.set(style=\"whitegrid\")\n"
   ]
  },
  {
   "cell_type": "code",
   "execution_count": null,
   "id": "27950ca2",
   "metadata": {},
   "outputs": [],
   "source": [
    "arquivos_necessarios = [\"loja_1.csv\", \"loja_2.csv\", \"loja_3.csv\", \"loja_4.csv\"]\n",
    "arquivos_faltando = [f for f in arquivos_necessarios if not os.path.exists(f)]\n",
    "\n",
    "if arquivos_faltando:\n",
    "    print(\"⚠️ Os seguintes arquivos estão faltando:\", arquivos_faltando)\n",
    "else:\n",
    "    print(\"✅ Todos os arquivos foram encontrados. Pode seguir.\")\n"
   ]
  },
  {
   "cell_type": "code",
   "execution_count": null,
   "id": "b54e6d99",
   "metadata": {},
   "outputs": [],
   "source": [
    "lojas = {\n",
    "    \"Loja 1\": pd.read_csv(\"loja_1.csv\"),\n",
    "    \"Loja 2\": pd.read_csv(\"loja_2.csv\"),\n",
    "    \"Loja 3\": pd.read_csv(\"loja_3.csv\"),\n",
    "    \"Loja 4\": pd.read_csv(\"loja_4.csv\")\n",
    "}\n",
    "print(\"✅ Dados carregados com sucesso.\")\n"
   ]
  },
  {
   "cell_type": "markdown",
   "id": "16cd041c",
   "metadata": {},
   "source": [
    "## 💰 Faturamento Total por Loja"
   ]
  },
  {
   "cell_type": "code",
   "execution_count": null,
   "id": "1d8ba869",
   "metadata": {},
   "outputs": [],
   "source": [
    "faturamento_total = {\n",
    "    loja: round(df[\"Preço\"].sum() + df[\"Frete\"].sum(), 2)\n",
    "    for loja, df in lojas.items()\n",
    "}\n",
    "\n",
    "df_faturamento = pd.DataFrame.from_dict(faturamento_total, orient=\"index\", columns=[\"Faturamento Total\"])\n",
    "df_faturamento = df_faturamento.sort_values(by=\"Faturamento Total\", ascending=False)\n",
    "display(df_faturamento)\n",
    "\n",
    "df_faturamento.plot(kind='bar', legend=False, title='Faturamento Total por Loja', color='skyblue')\n",
    "plt.ylabel('R$')\n",
    "plt.xticks(rotation=0)\n",
    "plt.grid(axis='y')\n",
    "plt.tight_layout()\n",
    "plt.show()\n"
   ]
  },
  {
   "cell_type": "markdown",
   "id": "96b86ffa",
   "metadata": {},
   "source": [
    "## 📦 Categorias Mais Populares por Loja"
   ]
  },
  {
   "cell_type": "code",
   "execution_count": null,
   "id": "f7edb0a3",
   "metadata": {},
   "outputs": [],
   "source": [
    "categorias_por_loja = {\n",
    "    loja: df[\"Categoria do Produto\"].value_counts().head(3)\n",
    "    for loja, df in lojas.items()\n",
    "}\n",
    "\n",
    "df_categorias = pd.DataFrame(categorias_por_loja).fillna(0).astype(int)\n",
    "display(df_categorias)\n",
    "\n",
    "# Exemplo gráfico pizza Loja 1\n",
    "lojas[\"Loja 1\"][\"Categoria do Produto\"].value_counts().head(5).plot(\n",
    "    kind='pie', autopct='%1.1f%%', title='Top 5 Categorias - Loja 1', figsize=(6, 6)\n",
    ")\n",
    "plt.ylabel('')\n",
    "plt.tight_layout()\n",
    "plt.show()\n"
   ]
  },
  {
   "cell_type": "markdown",
   "id": "881f9033",
   "metadata": {},
   "source": [
    "## 🌟 Média de Avaliação dos Clientes"
   ]
  },
  {
   "cell_type": "code",
   "execution_count": null,
   "id": "49f588e1",
   "metadata": {},
   "outputs": [],
   "source": [
    "avaliacao_media = {\n",
    "    loja: round(df[\"Avaliação da compra\"].mean(), 2)\n",
    "    for loja, df in lojas.items()\n",
    "}\n",
    "\n",
    "df_avaliacoes = pd.DataFrame.from_dict(avaliacao_media, orient=\"index\", columns=[\"Média de Avaliação\"])\n",
    "df_avaliacoes = df_avaliacoes.sort_values(by=\"Média de Avaliação\", ascending=False)\n",
    "display(df_avaliacoes)\n",
    "\n",
    "df_avaliacoes.plot(kind='bar', legend=False, color='lightgreen', title='Média de Avaliação dos Clientes')\n",
    "plt.ylim(3.5, 4.2)\n",
    "plt.ylabel('Nota média')\n",
    "plt.xticks(rotation=0)\n",
    "plt.grid(axis='y')\n",
    "plt.tight_layout()\n",
    "plt.show()\n"
   ]
  },
  {
   "cell_type": "markdown",
   "id": "d5150c3c",
   "metadata": {},
   "source": [
    "## 🔝 Produtos Mais e Menos Vendidos"
   ]
  },
  {
   "cell_type": "code",
   "execution_count": null,
   "id": "f0bcf06e",
   "metadata": {},
   "outputs": [],
   "source": [
    "mais_vendidos = {\n",
    "    loja: df[\"Produto\"].value_counts().idxmax()\n",
    "    for loja, df in lojas.items()\n",
    "}\n",
    "\n",
    "menos_vendidos = {\n",
    "    loja: df[\"Produto\"].value_counts().idxmin()\n",
    "    for loja, df in lojas.items()\n",
    "}\n",
    "\n",
    "df_produtos = pd.DataFrame({\n",
    "    \"Produto Mais Vendido\": mais_vendidos,\n",
    "    \"Produto Menos Vendido\": menos_vendidos\n",
    "}).T\n",
    "display(df_produtos)\n"
   ]
  },
  {
   "cell_type": "markdown",
   "id": "96cbd4e2",
   "metadata": {},
   "source": [
    "## 🚚 Custo Médio do Frete por Loja"
   ]
  },
  {
   "cell_type": "code",
   "execution_count": null,
   "id": "f8ddead3",
   "metadata": {},
   "outputs": [],
   "source": [
    "frete_medio = {\n",
    "    loja: round(df[\"Frete\"].mean(), 2)\n",
    "    for loja, df in lojas.items()\n",
    "}\n",
    "\n",
    "df_frete = pd.DataFrame.from_dict(frete_medio, orient=\"index\", columns=[\"Custo Médio do Frete\"])\n",
    "df_frete = df_frete.sort_values(by=\"Custo Médio do Frete\")\n",
    "display(df_frete)\n"
   ]
  },
  {
   "cell_type": "markdown",
   "id": "e61dc68d",
   "metadata": {},
   "source": [
    "## 📌 Relatório Final - Recomendação"
   ]
  },
  {
   "cell_type": "markdown",
   "id": "ccc62ba4",
   "metadata": {},
   "source": [
    "Com base nas análises realizadas:\n",
    "\n",
    "- **Loja 1** tem o maior faturamento, porém a pior média de avaliação e frete mais caro.\n",
    "- **Loja 3** e **Loja 2** apresentam desempenho equilibrado em todas as métricas.\n",
    "- **Loja 4** possui o **menor faturamento**, desempenho mediano em avaliação, e se destaca apenas pelo **frete mais barato**.\n",
    "\n",
    "➡️ **Recomendação**: O Sr. João deve considerar vender a **Loja 4**, pois ela apresenta o menor desempenho geral e sua venda causaria o menor impacto estratégico.\n",
    "\n",
    "---\n",
    "Relatório gerado com base em dados reais das lojas simuladas do e-commerce Alura Store.\n"
   ]
  }
 ],
 "metadata": {},
 "nbformat": 4,
 "nbformat_minor": 5
}
